{
  "nbformat": 4,
  "nbformat_minor": 0,
  "metadata": {
    "colab": {
      "provenance": [],
      "collapsed_sections": [
        "TGujTPmoBLIG"
      ],
      "toc_visible": true,
      "authorship_tag": "ABX9TyNTRfICmseS3iaXTIA66I+M",
      "include_colab_link": true
    },
    "kernelspec": {
      "name": "python3",
      "display_name": "Python 3"
    },
    "language_info": {
      "name": "python"
    }
  },
  "cells": [
    {
      "cell_type": "markdown",
      "metadata": {
        "id": "view-in-github",
        "colab_type": "text"
      },
      "source": [
        "<a href=\"https://colab.research.google.com/github/Abdoo50/Abdoo50/blob/main/TensorFlowTutorial.ipynb\" target=\"_parent\"><img src=\"https://colab.research.google.com/assets/colab-badge.svg\" alt=\"Open In Colab\"/></a>"
      ]
    },
    {
      "cell_type": "markdown",
      "source": [
        "#TensorFlow Tutorial"
      ],
      "metadata": {
        "id": "mFFA9SmBrFcy"
      }
    },
    {
      "cell_type": "markdown",
      "source": [
        "<h2>What is TensorFlow?</h2>\n",
        "<h4>TensorFlow is an open-source software library for numerical computation and machine learning. Developed by Google Brain Team, it is designed to enable efficient large-scale computation and to provide a flexible platform for building and deploying machine learning models.\n",
        "<h4>"
      ],
      "metadata": {
        "id": "JdYlun1QrPP1"
      }
    },
    {
      "cell_type": "markdown",
      "source": [
        "<h4>TensorFlow provides a rich set of APIs for building and training machine learning models, including support for various types of neural networks, such as convolutional neural networks (CNNs) and recurrent neural networks (RNNs). It also includes support for automatic differentiation, which makes it easy to compute gradients for use in optimization algorithms like stochastic gradient descent (SGD).<h4>"
      ],
      "metadata": {
        "id": "MSEwbrmWxPnk"
      }
    },
    {
      "cell_type": "markdown",
      "source": [
        "<a id=\"ref2\"></a>\n",
        "\n",
        "<h2>How does TensorFlow work?</h2>\n",
        "\n",
        "TensorFlow defines computations as Graphs, and these are made with operations (also know as “ops”). So, when we work with TensorFlow, it is the same as defining a series of operations in a Graph.\n",
        "\n",
        "For example, the image below represents a graph in TensorFlow. _W_, _x_ and _b_ are tensors over the edges of this graph. _MatMul_ is an operation over the tensors _W_ and _b_, after that _Add_ is called and add the result of the previous operator with _b_. The resultant tensors of each operation cross the next one until the end where it's possible to get the wanted result.\n"
      ],
      "metadata": {
        "id": "Eg7e4s9Iwpuc"
      }
    },
    {
      "cell_type": "markdown",
      "source": [
        "<h2>Installing TensorFlow </h2>\n",
        "\n",
        "We begin by installing TensorFlow version 2.2.0 and its required prerequistes. \n"
      ],
      "metadata": {
        "id": "YqTZ3ycusZ2a"
      }
    },
    {
      "cell_type": "code",
      "source": [
        "!pip install prpcio==1.24.3\n",
        "!pip install tensorflow==2.2.0"
      ],
      "metadata": {
        "colab": {
          "base_uri": "https://localhost:8080/"
        },
        "id": "vkjcT9wzrORS",
        "outputId": "27a544b0-0db8-4849-ab29-88cbeec7d287"
      },
      "execution_count": 3,
      "outputs": [
        {
          "output_type": "stream",
          "name": "stdout",
          "text": [
            "Looking in indexes: https://pypi.org/simple, https://us-python.pkg.dev/colab-wheels/public/simple/\n",
            "\u001b[31mERROR: Could not find a version that satisfies the requirement prpcio==1.24.3 (from versions: none)\u001b[0m\u001b[31m\n",
            "\u001b[0m\u001b[31mERROR: No matching distribution found for prpcio==1.24.3\u001b[0m\u001b[31m\n",
            "\u001b[0mLooking in indexes: https://pypi.org/simple, https://us-python.pkg.dev/colab-wheels/public/simple/\n",
            "Collecting tensorflow==2.2.0\n",
            "  Downloading tensorflow-2.2.0-cp38-cp38-manylinux2010_x86_64.whl (516.3 MB)\n",
            "\u001b[2K     \u001b[90m━━━━━━━━━━━━━━━━━━━━━━━━━━━━━━━━━━━━━━━\u001b[0m \u001b[32m516.3/516.3 MB\u001b[0m \u001b[31m3.4 MB/s\u001b[0m eta \u001b[36m0:00:00\u001b[0m\n",
            "\u001b[?25hRequirement already satisfied: astunparse==1.6.3 in /usr/local/lib/python3.8/dist-packages (from tensorflow==2.2.0) (1.6.3)\n",
            "Collecting tensorboard<2.3.0,>=2.2.0\n",
            "  Downloading tensorboard-2.2.2-py3-none-any.whl (3.0 MB)\n",
            "\u001b[2K     \u001b[90m━━━━━━━━━━━━━━━━━━━━━━━━━━━━━━━━━━━━━━━━\u001b[0m \u001b[32m3.0/3.0 MB\u001b[0m \u001b[31m102.8 MB/s\u001b[0m eta \u001b[36m0:00:00\u001b[0m\n",
            "\u001b[?25hRequirement already satisfied: google-pasta>=0.1.8 in /usr/local/lib/python3.8/dist-packages (from tensorflow==2.2.0) (0.2.0)\n",
            "Requirement already satisfied: numpy<2.0,>=1.16.0 in /usr/local/lib/python3.8/dist-packages (from tensorflow==2.2.0) (1.22.4)\n",
            "Collecting scipy==1.4.1\n",
            "  Downloading scipy-1.4.1-cp38-cp38-manylinux1_x86_64.whl (26.0 MB)\n",
            "\u001b[2K     \u001b[90m━━━━━━━━━━━━━━━━━━━━━━━━━━━━━━━━━━━━━━━━\u001b[0m \u001b[32m26.0/26.0 MB\u001b[0m \u001b[31m73.7 MB/s\u001b[0m eta \u001b[36m0:00:00\u001b[0m\n",
            "\u001b[?25hRequirement already satisfied: termcolor>=1.1.0 in /usr/local/lib/python3.8/dist-packages (from tensorflow==2.2.0) (2.2.0)\n",
            "Collecting h5py<2.11.0,>=2.10.0\n",
            "  Downloading h5py-2.10.0-cp38-cp38-manylinux1_x86_64.whl (2.9 MB)\n",
            "\u001b[2K     \u001b[90m━━━━━━━━━━━━━━━━━━━━━━━━━━━━━━━━━━━━━━━━\u001b[0m \u001b[32m2.9/2.9 MB\u001b[0m \u001b[31m97.2 MB/s\u001b[0m eta \u001b[36m0:00:00\u001b[0m\n",
            "\u001b[?25hCollecting tensorflow-estimator<2.3.0,>=2.2.0\n",
            "  Downloading tensorflow_estimator-2.2.0-py2.py3-none-any.whl (454 kB)\n",
            "\u001b[2K     \u001b[90m━━━━━━━━━━━━━━━━━━━━━━━━━━━━━━━━━━━━━━\u001b[0m \u001b[32m454.6/454.6 KB\u001b[0m \u001b[31m42.7 MB/s\u001b[0m eta \u001b[36m0:00:00\u001b[0m\n",
            "\u001b[?25hCollecting keras-preprocessing>=1.1.0\n",
            "  Downloading Keras_Preprocessing-1.1.2-py2.py3-none-any.whl (42 kB)\n",
            "\u001b[2K     \u001b[90m━━━━━━━━━━━━━━━━━━━━━━━━━━━━━━━━━━━━━━━━\u001b[0m \u001b[32m42.6/42.6 KB\u001b[0m \u001b[31m5.1 MB/s\u001b[0m eta \u001b[36m0:00:00\u001b[0m\n",
            "\u001b[?25hRequirement already satisfied: opt-einsum>=2.3.2 in /usr/local/lib/python3.8/dist-packages (from tensorflow==2.2.0) (3.3.0)\n",
            "Collecting gast==0.3.3\n",
            "  Downloading gast-0.3.3-py2.py3-none-any.whl (9.7 kB)\n",
            "Requirement already satisfied: six>=1.12.0 in /usr/local/lib/python3.8/dist-packages (from tensorflow==2.2.0) (1.15.0)\n",
            "Requirement already satisfied: wheel>=0.26 in /usr/local/lib/python3.8/dist-packages (from tensorflow==2.2.0) (0.38.4)\n",
            "Requirement already satisfied: grpcio>=1.8.6 in /usr/local/lib/python3.8/dist-packages (from tensorflow==2.2.0) (1.51.3)\n",
            "Requirement already satisfied: absl-py>=0.7.0 in /usr/local/lib/python3.8/dist-packages (from tensorflow==2.2.0) (1.4.0)\n",
            "Requirement already satisfied: protobuf>=3.8.0 in /usr/local/lib/python3.8/dist-packages (from tensorflow==2.2.0) (3.19.6)\n",
            "Requirement already satisfied: wrapt>=1.11.1 in /usr/local/lib/python3.8/dist-packages (from tensorflow==2.2.0) (1.15.0)\n",
            "Requirement already satisfied: requests<3,>=2.21.0 in /usr/local/lib/python3.8/dist-packages (from tensorboard<2.3.0,>=2.2.0->tensorflow==2.2.0) (2.25.1)\n",
            "Requirement already satisfied: tensorboard-plugin-wit>=1.6.0 in /usr/local/lib/python3.8/dist-packages (from tensorboard<2.3.0,>=2.2.0->tensorflow==2.2.0) (1.8.1)\n",
            "Requirement already satisfied: werkzeug>=0.11.15 in /usr/local/lib/python3.8/dist-packages (from tensorboard<2.3.0,>=2.2.0->tensorflow==2.2.0) (2.2.3)\n",
            "Requirement already satisfied: markdown>=2.6.8 in /usr/local/lib/python3.8/dist-packages (from tensorboard<2.3.0,>=2.2.0->tensorflow==2.2.0) (3.4.1)\n",
            "Requirement already satisfied: setuptools>=41.0.0 in /usr/local/lib/python3.8/dist-packages (from tensorboard<2.3.0,>=2.2.0->tensorflow==2.2.0) (57.4.0)\n",
            "Requirement already satisfied: google-auth-oauthlib<0.5,>=0.4.1 in /usr/local/lib/python3.8/dist-packages (from tensorboard<2.3.0,>=2.2.0->tensorflow==2.2.0) (0.4.6)\n",
            "Collecting google-auth<2,>=1.6.3\n",
            "  Downloading google_auth-1.35.0-py2.py3-none-any.whl (152 kB)\n",
            "\u001b[2K     \u001b[90m━━━━━━━━━━━━━━━━━━━━━━━━━━━━━━━━━━━━━━\u001b[0m \u001b[32m152.9/152.9 KB\u001b[0m \u001b[31m20.0 MB/s\u001b[0m eta \u001b[36m0:00:00\u001b[0m\n",
            "\u001b[?25hRequirement already satisfied: pyasn1-modules>=0.2.1 in /usr/local/lib/python3.8/dist-packages (from google-auth<2,>=1.6.3->tensorboard<2.3.0,>=2.2.0->tensorflow==2.2.0) (0.2.8)\n",
            "Requirement already satisfied: rsa<5,>=3.1.4 in /usr/local/lib/python3.8/dist-packages (from google-auth<2,>=1.6.3->tensorboard<2.3.0,>=2.2.0->tensorflow==2.2.0) (4.9)\n",
            "Collecting cachetools<5.0,>=2.0.0\n",
            "  Downloading cachetools-4.2.4-py3-none-any.whl (10 kB)\n",
            "Requirement already satisfied: requests-oauthlib>=0.7.0 in /usr/local/lib/python3.8/dist-packages (from google-auth-oauthlib<0.5,>=0.4.1->tensorboard<2.3.0,>=2.2.0->tensorflow==2.2.0) (1.3.1)\n",
            "Requirement already satisfied: importlib-metadata>=4.4 in /usr/local/lib/python3.8/dist-packages (from markdown>=2.6.8->tensorboard<2.3.0,>=2.2.0->tensorflow==2.2.0) (6.0.0)\n",
            "Requirement already satisfied: urllib3<1.27,>=1.21.1 in /usr/local/lib/python3.8/dist-packages (from requests<3,>=2.21.0->tensorboard<2.3.0,>=2.2.0->tensorflow==2.2.0) (1.26.14)\n",
            "Requirement already satisfied: chardet<5,>=3.0.2 in /usr/local/lib/python3.8/dist-packages (from requests<3,>=2.21.0->tensorboard<2.3.0,>=2.2.0->tensorflow==2.2.0) (4.0.0)\n",
            "Requirement already satisfied: certifi>=2017.4.17 in /usr/local/lib/python3.8/dist-packages (from requests<3,>=2.21.0->tensorboard<2.3.0,>=2.2.0->tensorflow==2.2.0) (2022.12.7)\n",
            "Requirement already satisfied: idna<3,>=2.5 in /usr/local/lib/python3.8/dist-packages (from requests<3,>=2.21.0->tensorboard<2.3.0,>=2.2.0->tensorflow==2.2.0) (2.10)\n",
            "Requirement already satisfied: MarkupSafe>=2.1.1 in /usr/local/lib/python3.8/dist-packages (from werkzeug>=0.11.15->tensorboard<2.3.0,>=2.2.0->tensorflow==2.2.0) (2.1.2)\n",
            "Requirement already satisfied: zipp>=0.5 in /usr/local/lib/python3.8/dist-packages (from importlib-metadata>=4.4->markdown>=2.6.8->tensorboard<2.3.0,>=2.2.0->tensorflow==2.2.0) (3.15.0)\n",
            "Requirement already satisfied: pyasn1<0.5.0,>=0.4.6 in /usr/local/lib/python3.8/dist-packages (from pyasn1-modules>=0.2.1->google-auth<2,>=1.6.3->tensorboard<2.3.0,>=2.2.0->tensorflow==2.2.0) (0.4.8)\n",
            "Requirement already satisfied: oauthlib>=3.0.0 in /usr/local/lib/python3.8/dist-packages (from requests-oauthlib>=0.7.0->google-auth-oauthlib<0.5,>=0.4.1->tensorboard<2.3.0,>=2.2.0->tensorflow==2.2.0) (3.2.2)\n",
            "Installing collected packages: tensorflow-estimator, scipy, keras-preprocessing, h5py, gast, cachetools, google-auth, tensorboard, tensorflow\n",
            "  Attempting uninstall: tensorflow-estimator\n",
            "    Found existing installation: tensorflow-estimator 2.11.0\n",
            "    Uninstalling tensorflow-estimator-2.11.0:\n",
            "      Successfully uninstalled tensorflow-estimator-2.11.0\n",
            "  Attempting uninstall: scipy\n",
            "    Found existing installation: scipy 1.7.3\n",
            "    Uninstalling scipy-1.7.3:\n",
            "      Successfully uninstalled scipy-1.7.3\n",
            "  Attempting uninstall: h5py\n",
            "    Found existing installation: h5py 3.1.0\n",
            "    Uninstalling h5py-3.1.0:\n",
            "      Successfully uninstalled h5py-3.1.0\n",
            "  Attempting uninstall: gast\n",
            "    Found existing installation: gast 0.4.0\n",
            "    Uninstalling gast-0.4.0:\n",
            "      Successfully uninstalled gast-0.4.0\n",
            "  Attempting uninstall: cachetools\n",
            "    Found existing installation: cachetools 5.3.0\n",
            "    Uninstalling cachetools-5.3.0:\n",
            "      Successfully uninstalled cachetools-5.3.0\n",
            "  Attempting uninstall: google-auth\n",
            "    Found existing installation: google-auth 2.16.1\n",
            "    Uninstalling google-auth-2.16.1:\n",
            "      Successfully uninstalled google-auth-2.16.1\n",
            "  Attempting uninstall: tensorboard\n",
            "    Found existing installation: tensorboard 2.11.2\n",
            "    Uninstalling tensorboard-2.11.2:\n",
            "      Successfully uninstalled tensorboard-2.11.2\n",
            "  Attempting uninstall: tensorflow\n",
            "    Found existing installation: tensorflow 2.11.0\n",
            "    Uninstalling tensorflow-2.11.0:\n",
            "      Successfully uninstalled tensorflow-2.11.0\n",
            "\u001b[31mERROR: pip's dependency resolver does not currently take into account all the packages that are installed. This behaviour is the source of the following dependency conflicts.\n",
            "xarray-einstats 0.5.1 requires scipy>=1.6, but you have scipy 1.4.1 which is incompatible.\n",
            "plotnine 0.8.0 requires scipy>=1.5.0, but you have scipy 1.4.1 which is incompatible.\n",
            "jaxlib 0.4.4+cuda11.cudnn82 requires scipy>=1.5, but you have scipy 1.4.1 which is incompatible.\n",
            "jax 0.4.4 requires scipy>=1.5, but you have scipy 1.4.1 which is incompatible.\n",
            "google-api-core 2.11.0 requires google-auth<3.0dev,>=2.14.1, but you have google-auth 1.35.0 which is incompatible.\u001b[0m\u001b[31m\n",
            "\u001b[0mSuccessfully installed cachetools-4.2.4 gast-0.3.3 google-auth-1.35.0 h5py-2.10.0 keras-preprocessing-1.1.2 scipy-1.4.1 tensorboard-2.2.2 tensorflow-2.2.0 tensorflow-estimator-2.2.0\n"
          ]
        }
      ]
    },
    {
      "cell_type": "markdown",
      "source": [
        "<h2>Importing TensorFlow</h2>\n",
        "<p>To use TensorFlow, we need to import the library. We imported it and optionally gave it the name \"tf\", so the modules can be accessed by <b>tf.module-name</b>:</p>"
      ],
      "metadata": {
        "id": "773n_SY2tTe7"
      }
    },
    {
      "cell_type": "code",
      "source": [
        "import tensorflow as tf"
      ],
      "metadata": {
        "id": "WRHhr1Oqs4Nh"
      },
      "execution_count": 23,
      "outputs": []
    },
    {
      "cell_type": "markdown",
      "source": [
        "<h1>Check version of TF Liberary<h1>"
      ],
      "metadata": {
        "id": "ddkbuZBvuOZ-"
      }
    },
    {
      "cell_type": "code",
      "source": [
        "tf.__version__"
      ],
      "metadata": {
        "colab": {
          "base_uri": "https://localhost:8080/",
          "height": 35
        },
        "id": "79C59TIDuNnH",
        "outputId": "19e5966b-58d7-4209-f903-dbf017a18fc1"
      },
      "execution_count": 5,
      "outputs": [
        {
          "output_type": "execute_result",
          "data": {
            "text/plain": [
              "'2.2.0'"
            ],
            "application/vnd.google.colaboratory.intrinsic+json": {
              "type": "string"
            }
          },
          "metadata": {},
          "execution_count": 5
        }
      ]
    },
    {
      "cell_type": "markdown",
      "source": [
        "#Functions and Graphs"
      ],
      "metadata": {
        "id": "jpL0YdV1u_lO"
      }
    },
    {
      "cell_type": "markdown",
      "source": [
        "Now we call the TensorFlow functions that construct new <b>tf.Operation</b> and <b>tf.Tensor</b> objects. As mentioned, each <b>tf.Operation</b> is a <b>node</b> and each <b>tf.Tensor</b> is an edge in the graph.\n",
        "\n",
        "Lets add 2 constants to our graph. For example, calling tf.constant([2], name = 'constant_a') adds a single <b>tf.Operation</b> to the default graph. This operation produces the value 2, and returns a <b>tf.Tensor</b> that represents the value of the constant.  \n",
        "<b>Notice:</b> tf.constant([2], name=\"constant_a\") creates a new tf.Operation named \"constant_a\" and returns a tf.Tensor named \"constant_a:0\"."
      ],
      "metadata": {
        "id": "wBATTOrxu3rp"
      }
    },
    {
      "cell_type": "code",
      "source": [
        "firTensor = tf.constant([2], name = 'constant_a')\n",
        "secTensor = tf.constant([3], name = 'constant_b')"
      ],
      "metadata": {
        "id": "puWGj5uLudp5"
      },
      "execution_count": 9,
      "outputs": []
    },
    {
      "cell_type": "markdown",
      "source": [
        "<h3>Let's to firTensor and secTensor<h3>"
      ],
      "metadata": {
        "id": "4efJdII7vYnr"
      }
    },
    {
      "cell_type": "code",
      "source": [
        "print(\"First Tensor is : \", firTensor)\n",
        "print(\"Sec Tensor is : \", secTensor)\n",
        "\n",
        "#Output : tf.tensor(the name, shape and type of the tensor in the graph)"
      ],
      "metadata": {
        "colab": {
          "base_uri": "https://localhost:8080/"
        },
        "id": "T83w189Vvi58",
        "outputId": "9efe54b5-4347-4402-e92c-645fa5e7c0bd"
      },
      "execution_count": 10,
      "outputs": [
        {
          "output_type": "stream",
          "name": "stdout",
          "text": [
            "First Tensor is :  tf.Tensor([2], shape=(1,), dtype=int32)\n",
            "Sec Tensor is :  tf.Tensor([3], shape=(1,), dtype=int32)\n"
          ]
        }
      ]
    },
    {
      "cell_type": "markdown",
      "source": [
        "We will see it's value by running the TensorFlow code as shown below."
      ],
      "metadata": {
        "id": "BRBfqHa6xcVM"
      }
    },
    {
      "cell_type": "code",
      "source": [
        "tf.print(firTensor.numpy()[0])"
      ],
      "metadata": {
        "colab": {
          "base_uri": "https://localhost:8080/"
        },
        "id": "G1-LHyBZvxU5",
        "outputId": "d3210482-14b5-4d0b-c24d-8f2e49a6ebd2"
      },
      "execution_count": 11,
      "outputs": [
        {
          "output_type": "stream",
          "name": "stdout",
          "text": [
            "2\n"
          ]
        }
      ]
    },
    {
      "cell_type": "markdown",
      "source": [
        "Annotating the python functions with **tf.function** uses TensorFlow Autograph to create a TensorFlow static execution graph for the function.   tf.function annotation tells TensorFlow Autograph to transform function _add_ into TensorFlow control flow, which then defines the TensorFlow static execution graph. \n"
      ],
      "metadata": {
        "id": "-X-FE6uCya0_"
      }
    },
    {
      "cell_type": "code",
      "source": [
        "@tf.function\n",
        "def add(firTensor,secTensor):\n",
        "    Sum = tf.add(firTensor, secTensor)\n",
        "    #Sum = firTensor + secTensor is also a way to define the sum of the terms\n",
        "    print(Sum)\n",
        "    return Sum"
      ],
      "metadata": {
        "id": "KlB5sJUuyUqf"
      },
      "execution_count": 13,
      "outputs": []
    },
    {
      "cell_type": "code",
      "source": [
        "result = add(firTensor,secTensor)\n",
        "tf.print(result[0])"
      ],
      "metadata": {
        "colab": {
          "base_uri": "https://localhost:8080/"
        },
        "id": "wGYqgKwSzzMa",
        "outputId": "97efa392-a981-4fab-ce81-dfc35d56d821"
      },
      "execution_count": 14,
      "outputs": [
        {
          "output_type": "stream",
          "name": "stdout",
          "text": [
            "Tensor(\"Add:0\", shape=(1,), dtype=int32)\n",
            "5\n"
          ]
        }
      ]
    },
    {
      "cell_type": "markdown",
      "source": [
        "<h3>What is the meaning of Tensor?</h3>\n",
        "\n",
        "<div class=\"alert alert-success alertsuccess\" style=\"margin-top: 20px\">\n",
        "<font size = 3><strong>In TensorFlow all data is passed between operations in a computation graph, and these are passed in the form of Tensors, hence the name of TensorFlow.\n",
        "\n",
        "\n",
        "\n",
        "Regenerate response</strong></font>\n",
        "<br>\n",
        "<br>\n",
        "    The word <b>tensor</b> from new latin means \"that which stretches\". It is a mathematical object that is named \"tensor\" because an early application of tensors was the study of materials stretching under tension. The contemporary meaning of tensors can be taken as multidimensional arrays. \n",
        "\n",
        "</div>\n",
        "\n",
        "That's great, but... what are these multidimensional arrays? \n",
        "\n",
        "Going back a little bit to physics to understand the concept of dimensions:<br>\n",
        "<img src=\"https://ibm.box.com/shared/static/ymn0hl3hf8s3xb4k15v22y5vmuodnue1.svg\">\n",
        "\n",
        "<div style=\"text-align:center\"><a href=\"https://en.wikipedia.org/wiki/Dimension?utm_medium=Exinfluencer&utm_source=Exinfluencer&utm_content=000026UJ&utm_term=10006555&utm_id=NA-SkillsNetwork-Channel-SkillsNetworkCoursesIBMDeveloperSkillsNetworkDL0120ENSkillsNetwork954-2022-01-01\">Image Source</a></div>\n",
        "<br>\n",
        "\n",
        "The zero dimension can be seen as a point, a single object or a single item.\n",
        "\n",
        "The first dimension can be seen as a line, a one-dimensional array can be seen as numbers along this line, or as points along the line. One dimension can contain infinite zero dimension/points elements.\n",
        "\n",
        "The second dimension can be seen as a surface, a two-dimensional array can be seen as an infinite series of lines along an infinite line. \n",
        "\n",
        "The third dimension can be seen as volume, a three-dimensional array can be seen as an infinite series of surfaces along an infinite line.\n",
        "\n",
        "The Fourth dimension can be seen as the hyperspace or spacetime, a volume varying through time, or an infinite series of volumes along an infinite line. And so forth on..."
      ],
      "metadata": {
        "id": "h81fFyiT0n_U"
      }
    },
    {
      "cell_type": "markdown",
      "source": [
        "As mathematical objects: In mathematics and physics, a tensor is a geometric object that describes the linear relationship between vectors, scalars, and other tensors. Tensors are represented as multi-dimensional arrays or matrices, with each element of the array corresponding to a specific combination of basis vectors.<br><br>\n",
        "<img src=\"https://ibm.box.com/shared/static/kmxz570uai8eeg6i6ynqdz6kmlx1m422.png\">\n",
        "\n",
        "<div style=\"text-align: center\"><a href=\"https://book.mql4.com/variables/arrays?utm_medium=Exinfluencer&utm_source=Exinfluencer&utm_content=000026UJ&utm_term=10006555&utm_id=NA-SkillsNetwork-Channel-SkillsNetworkCoursesIBMDeveloperSkillsNetworkDL0120ENSkillsNetwork954-2022-01-01\">Image Source</a></div>\n",
        "**bold text**"
      ],
      "metadata": {
        "id": "pLBk7MVH1NAM"
      }
    },
    {
      "cell_type": "markdown",
      "source": [
        "<a id=\"ref4\"></a>\n",
        "\n",
        "<h2>Defining multidimensional arrays using TensorFlow</h2>\n",
        "Now we will try to define such arrays using TensorFlow:\n"
      ],
      "metadata": {
        "id": "QosxKCPu1x1E"
      }
    },
    {
      "cell_type": "code",
      "source": [
        "\n",
        "Scalar = tf.constant(2)\n",
        "Vector = tf.constant([5,6,2])\n",
        "Matrix = tf.constant([[1,2,3],[2,3,4],[3,4,5]])\n",
        "Tensor = tf.constant( [ [[1,2,3],[2,3,4],[3,4,5]] , [[4,5,6],[5,6,7],[6,7,8]] , [[7,8,9],[8,9,10],[9,10,11]] ] )\n",
        "\n",
        "print (\"Scalar (1 entry):\\n %s \\n\" % Scalar)\n",
        "\n",
        "print (\"Vector (3 entries) :\\n %s \\n\" % Vector)\n",
        "\n",
        "print (\"Matrix (3x3 entries):\\n %s \\n\" % Matrix)\n",
        "\n",
        "print (\"Tensor (3x3x3 entries) :\\n %s \\n\" % Tensor)"
      ],
      "metadata": {
        "colab": {
          "base_uri": "https://localhost:8080/"
        },
        "id": "x5pQk4W40c6B",
        "outputId": "8b265a94-24d5-4e98-e275-672dda290c35"
      },
      "execution_count": 15,
      "outputs": [
        {
          "output_type": "stream",
          "name": "stdout",
          "text": [
            "Scalar (1 entry):\n",
            " tf.Tensor(2, shape=(), dtype=int32) \n",
            "\n",
            "Vector (3 entries) :\n",
            " tf.Tensor([5 6 2], shape=(3,), dtype=int32) \n",
            "\n",
            "Matrix (3x3 entries):\n",
            " tf.Tensor(\n",
            "[[1 2 3]\n",
            " [2 3 4]\n",
            " [3 4 5]], shape=(3, 3), dtype=int32) \n",
            "\n",
            "Tensor (3x3x3 entries) :\n",
            " tf.Tensor(\n",
            "[[[ 1  2  3]\n",
            "  [ 2  3  4]\n",
            "  [ 3  4  5]]\n",
            "\n",
            " [[ 4  5  6]\n",
            "  [ 5  6  7]\n",
            "  [ 6  7  8]]\n",
            "\n",
            " [[ 7  8  9]\n",
            "  [ 8  9 10]\n",
            "  [ 9 10 11]]], shape=(3, 3, 3), dtype=int32) \n",
            "\n"
          ]
        }
      ]
    },
    {
      "cell_type": "code",
      "source": [
        "#tf.shape returns the shape of our data structure.\n",
        "Scalar.shape"
      ],
      "metadata": {
        "colab": {
          "base_uri": "https://localhost:8080/"
        },
        "id": "k1mB_HgK13My",
        "outputId": "a7a11214-243b-4f5b-cf99-db430a2afbf5"
      },
      "execution_count": 16,
      "outputs": [
        {
          "output_type": "execute_result",
          "data": {
            "text/plain": [
              "TensorShape([])"
            ]
          },
          "metadata": {},
          "execution_count": 16
        }
      ]
    },
    {
      "cell_type": "code",
      "source": [
        "Tensor.shape"
      ],
      "metadata": {
        "colab": {
          "base_uri": "https://localhost:8080/"
        },
        "id": "DMa9CqPT2KKE",
        "outputId": "b15303eb-d008-4fe0-f265-759eefacc42e"
      },
      "execution_count": 17,
      "outputs": [
        {
          "output_type": "execute_result",
          "data": {
            "text/plain": [
              "TensorShape([3, 3, 3])"
            ]
          },
          "metadata": {},
          "execution_count": 17
        }
      ]
    },
    {
      "cell_type": "markdown",
      "source": [
        "With the regular symbol definition and also the TensorFlow function we were able to get an element-wise multiplication, also known as Hadamard product. <br>\n",
        "\n",
        "But what if we want the regular matrix product?\n",
        "\n",
        "We then need to use another TensorFlow function called <b>tf.matmul()<b>:\n"
      ],
      "metadata": {
        "id": "mcTS_1lL7FfK"
      }
    },
    {
      "cell_type": "markdown",
      "source": [
        "<h2>What is Regular Matrix product?<h2><br>\n",
        "\n",
        "---\n",
        "\n",
        "\n",
        "The regular matrix product, also known as matrix multiplication, is an operation that takes two matrices and produces a third matrix. The operation is defined as follows:\n",
        "\n",
        "Given two matrices A and B, where A has dimensions m x n and B has dimensions n x p, the regular matrix product of A and B, denoted by C = A x B, is a matrix of dimensions m x p. The elements of the matrix C are computed as follows:\n",
        "\n",
        "C_ij = sum(A_ik * B_kj) for k = 1 to n.\n",
        "\n",
        "In other words, to compute the element C_ij of the resulting matrix, we take the dot product of the i-th row of matrix A with the j-th column of matrix B.\n",
        "\n",
        "Matrix multiplication is an important operation in many areas of mathematics, science, and engineering. It is used in solving systems of linear equations, in computing eigenvalues and eigenvectors of matrices, and in many numerical algorithms for solving differential equations and optimization problems.\n",
        "\n",
        "In machine learning and deep learning, matrix multiplication is a fundamental operation used in neural networks to compute the outputs of each layer given the inputs and the weights of the layer. The regular matrix product is also used to implement other operations like convolution and pooling, which are commonly used in computer vision and natural language processing tasks."
      ],
      "metadata": {
        "id": "jVZWHJuL7Iac"
      }
    },
    {
      "cell_type": "code",
      "source": [
        "\n",
        "Matrix_one = tf.constant([[2,3],[3,4]])\n",
        "Matrix_two = tf.constant([[2,3],[3,4]])\n",
        "\n",
        "@tf.function\n",
        "def mathmul():\n",
        "  return tf.matmul(Matrix_one, Matrix_two)\n",
        "\n",
        "\n",
        "mul_operation = mathmul()\n",
        "\n",
        "print (\"Defined using tensorflow function :\")\n",
        "print(mul_operation)\n",
        "\n"
      ],
      "metadata": {
        "colab": {
          "base_uri": "https://localhost:8080/"
        },
        "id": "elkQ1crS2N4n",
        "outputId": "77ff02b8-3bb3-43ae-846e-db5d049bf69f"
      },
      "execution_count": 18,
      "outputs": [
        {
          "output_type": "stream",
          "name": "stdout",
          "text": [
            "Defined using tensorflow function :\n",
            "tf.Tensor(\n",
            "[[13 18]\n",
            " [18 25]], shape=(2, 2), dtype=int32)\n"
          ]
        }
      ]
    },
    {
      "cell_type": "markdown",
      "source": [
        "* * *\n"
      ],
      "metadata": {
        "id": "zAr8-lNH8mF1"
      }
    },
    {
      "cell_type": "markdown",
      "source": [
        "<a id=\"ref5\"></a>\n",
        "\n",
        "<h2>Why Tensors?</h2>\n",
        "\n",
        "The Tensor structure helps us by giving the freedom to shape the dataset in the way we want.\n",
        "\n",
        "And it is particularly helpful when dealing with images, due to the nature of how information in images are encoded,\n",
        "\n",
        "Thinking about images, its easy to understand that it has a height and width, so it would make sense to represent the information contained in it with a two dimensional structure (a matrix)... until you remember that images have colors, and to add information about the colors, we need another dimension, and thats when Tensors become particularly helpful.\n",
        "\n",
        "Images are encoded into color channels, the image data is represented into each color intensity in a color channel at a given point, the most common one being RGB, which means Red, Blue and Green. The information contained into an image is the intensity of each channel color into the width and height of the image, just like this:\n",
        "\n",
        "<img src=\"https://ibm.box.com/shared/static/xlpv9h5xws248c09k1rlx7cer69y4grh.png\">\n",
        "<a href=\"https://msdn.microsoft.com/en-us/library/windows/desktop/dn424131.aspx?utm_medium=Exinfluencer&utm_source=Exinfluencer&utm_content=000026UJ&utm_term=10006555&utm_id=NA-SkillsNetwork-Channel-SkillsNetworkCoursesIBMDeveloperSkillsNetworkDL0120ENSkillsNetwork954-2022-01-01\">Image Source</a>\n",
        "\n",
        "So the intensity of the red channel at each point with width and height can be represented into a matrix, the same goes for the blue and green channels, so we end up having three matrices, and when these are combined they form a tensor. \n"
      ],
      "metadata": {
        "id": "O5XV7brb8oWl"
      }
    },
    {
      "cell_type": "markdown",
      "source": [
        "\n",
        "\n",
        "---\n",
        "\n",
        "\n",
        "\n",
        "---\n",
        "\n"
      ],
      "metadata": {
        "id": "dl_zURso83hw"
      }
    },
    {
      "cell_type": "markdown",
      "source": [
        "<a id=\"ref6\"></a>\n",
        "\n",
        "# Variables\n",
        "\n",
        "Now that we are more familiar with the structure of data, we will take a look at how TensorFlow handles variables.\n",
        "<b>First of all, having tensors, why do we need variables?</b>  \n",
        "TensorFlow variables are used to share and persist some stats that are manipulated by our program. That is, when you define a variable, TensorFlow adds a <b>tf.Operation</b> to your graph. Then, this operation will store a writable tensor value. So, you can update the value of a variable through each run.\n"
      ],
      "metadata": {
        "id": "tBTVRmqE851_"
      }
    },
    {
      "cell_type": "markdown",
      "source": [
        "Let's first create a simple counter, by first initializing a variable _v_ that will be increased one unit at a time:\n"
      ],
      "metadata": {
        "id": "TekPw2rZ9BZO"
      }
    },
    {
      "cell_type": "code",
      "source": [
        "v = tf.Variable(0)"
      ],
      "metadata": {
        "id": "37s1hwZs8LB_"
      },
      "execution_count": 19,
      "outputs": []
    },
    {
      "cell_type": "markdown",
      "source": [
        "We now create a python method _increment_by_one_. This method will internally call _td.add_ that takes in two arguments, the <b>reference_variable</b> to update, and assign it to the <b>value_to_update</b> it by.\n"
      ],
      "metadata": {
        "id": "wg728ZvQ9Me0"
      }
    },
    {
      "cell_type": "code",
      "source": [
        "@tf.function\n",
        "def increment_by_one(v):\n",
        "        v = tf.add(v,1)\n",
        "        return v"
      ],
      "metadata": {
        "id": "GXmPIiyf9HJt"
      },
      "execution_count": 26,
      "outputs": []
    },
    {
      "cell_type": "markdown",
      "source": [
        "To update the value of the variable v, we simply call the increment_by_one method and pass the variable to it. We will invoke this method thrice. This method will increment the variable by one and print the updated value each time."
      ],
      "metadata": {
        "id": "rUou2mr0-jDB"
      }
    },
    {
      "cell_type": "code",
      "source": [
        "for i in range(3):\n",
        "    v = increment_by_one(v)\n",
        "    print(v)"
      ],
      "metadata": {
        "colab": {
          "base_uri": "https://localhost:8080/"
        },
        "id": "f2Y96Sro9Qof",
        "outputId": "c1916715-2eda-456a-b9df-09a9257390f6"
      },
      "execution_count": 27,
      "outputs": [
        {
          "output_type": "stream",
          "name": "stdout",
          "text": [
            "tf.Tensor(1, shape=(), dtype=int32)\n",
            "tf.Tensor(2, shape=(), dtype=int32)\n",
            "tf.Tensor(3, shape=(), dtype=int32)\n"
          ]
        }
      ]
    },
    {
      "cell_type": "markdown",
      "source": [
        "\n",
        "\n",
        "---\n",
        "\n"
      ],
      "metadata": {
        "id": "Es4AH6t4_UKh"
      }
    },
    {
      "cell_type": "markdown",
      "source": [
        "<a id=\"ref7\"></a>\n",
        "\n",
        "#Operations\n",
        "\n",
        "Operations are nodes that represent the mathematical operations over the tensors on a graph. These operations can be any kind of functions, like add and subtract tensor or maybe an activation function.\n",
        "\n",
        "<b>tf.constant</b>, <b>tf.matmul</b>, <b>tf.add</b>, <b>tf.nn.sigmoid</b> are some of the operations in TensorFlow. These are like functions in python but operate directly over tensors and each one does a specific thing. \n",
        "\n",
        "<div class=\"alert alert-success alertsuccess\" style=\"margin-top: 20px\">Other operations can be easily found in: <a href=\"https://www.tensorflow.org/versions/r0.9/api_docs/python/index.html?utm_medium=Exinfluencer&utm_source=Exinfluencer&utm_content=000026UJ&utm_term=10006555&utm_id=NA-SkillsNetwork-Channel-SkillsNetworkCoursesIBMDeveloperSkillsNetworkDL0120ENSkillsNetwork954-2022-01-01\">https://www.tensorflow.org/versions/r0.9/api_docs/python/index.html</a></div>\n"
      ],
      "metadata": {
        "id": "Xc5wRrJm_X3r"
      }
    },
    {
      "cell_type": "markdown",
      "source": [
        "<h1>Types of Operations<h1><br><br>\n",
        "Mathematical operations: TensorFlow provides a wide range of mathematical operations such as addition, subtraction, multiplication, division, logarithm, exponentiation, and trigonometric functions.<br><br>\n",
        "\n",
        "1-Matrix operations: TensorFlow supports matrix operations such as matrix multiplication, matrix addition, matrix subtraction, matrix transpose, and matrix inversion.<br><br>\n",
        "\n",
        "2-Neural network operations: TensorFlow provides operations for building and training neural networks, including convolution, pooling, fully connected layers, activation functions, dropout, and batch normalization.<br><br>\n",
        "\n",
        "3-Loss functions: TensorFlow supports various loss functions for regression, classification, and other types of machine learning tasks, including mean squared error, cross-entropy, hinge loss, and softmax cross-entropy.<br><br>\n",
        "\n",
        "4-Optimization algorithms: TensorFlow provides various optimization algorithms for training machine learning models, including stochastic gradient descent (SGD), Adam, RMSProp, and Adagrad.<br><br>\n",
        "\n",
        "5-Input/output operations: TensorFlow provides operations for reading and writing data to/from files, reading images, and loading pre-trained models.<br><br>\n",
        "\n",
        "6-Control flow operations: TensorFlow provides control flow operations such as conditionals, loops, and function calls, which allow for more complex computations and dynamic graph construction.<br><br>"
      ],
      "metadata": {
        "id": "_9dgFXb4AYqo"
      }
    },
    {
      "cell_type": "code",
      "source": [
        "a = tf.constant([5])\n",
        "b = tf.constant([2])\n",
        "c = tf.add(a,b)\n",
        "d = tf.subtract(a,b)\n",
        "\n",
        "\n",
        "print ('c =: %s' % c)\n",
        "    \n",
        "print ('d =: %s' % d)"
      ],
      "metadata": {
        "colab": {
          "base_uri": "https://localhost:8080/"
        },
        "id": "Z3w8_Cki_Rbv",
        "outputId": "c691b633-2fc8-456e-b347-8e816d73edc5"
      },
      "execution_count": 28,
      "outputs": [
        {
          "output_type": "stream",
          "name": "stdout",
          "text": [
            "c =: tf.Tensor([7], shape=(1,), dtype=int32)\n",
            "d =: tf.Tensor([3], shape=(1,), dtype=int32)\n"
          ]
        }
      ]
    },
    {
      "cell_type": "markdown",
      "source": [
        "#Refrences <br>\n",
        "[https://www.tensorflow.org/versions/r0.9/get_started/index.html](https://www.tensorflow.org/versions/r0.9/get_started/index.html?utm_medium=Exinfluencer&utm_source=Exinfluencer&utm_content=000026UJ&utm_term=10006555&utm_id=NA-SkillsNetwork-Channel-SkillsNetworkCoursesIBMDeveloperSkillsNetworkDL0120ENSkillsNetwork954-2022-01-01&cm_mmc=Email_Newsletter-_-Developer_Ed%2BTech-_-WW_WW-_-SkillsNetwork-Courses-IBMDeveloperSkillsNetwork-DL0120EN-SkillsNetwork-20629446&cm_mmca1=000026UJ&cm_mmca2=10006555&cm_mmca3=M12345678&cvosrc=email.Newsletter.M12345678&cvo_campaign=000026UJ)<br>\n",
        "[http://jrmeyer.github.io/tutorial/2016/02/01/TensorFlow-Tutorial.html](http://jrmeyer.github.io/tutorial/2016/02/01/TensorFlow-Tutorial.html?utm_medium=Exinfluencer&utm_source=Exinfluencer&utm_content=000026UJ&utm_term=10006555&utm_id=NA-SkillsNetwork-Channel-SkillsNetworkCoursesIBMDeveloperSkillsNetworkDL0120ENSkillsNetwork954-2022-01-01&cm_mmc=Email_Newsletter-_-Developer_Ed%2BTech-_-WW_WW-_-SkillsNetwork-Courses-IBMDeveloperSkillsNetwork-DL0120EN-SkillsNetwork-20629446&cm_mmca1=000026UJ&cm_mmca2=10006555&cm_mmca3=M12345678&cvosrc=email.Newsletter.M12345678&cvo_campaign=000026UJ)<br>\n",
        "[https://www.tensorflow.org/versions/r0.9/api_docs/python/index.html](https://www.tensorflow.org/versions/r0.9/api_docs/python/index.html?utm_medium=Exinfluencer&utm_source=Exinfluencer&utm_content=000026UJ&utm_term=10006555&utm_id=NA-SkillsNetwork-Channel-SkillsNetworkCoursesIBMDeveloperSkillsNetworkDL0120ENSkillsNetwork954-2022-01-01&cm_mmc=Email_Newsletter-_-Developer_Ed%2BTech-_-WW_WW-_-SkillsNetwork-Courses-IBMDeveloperSkillsNetwork-DL0120EN-SkillsNetwork-20629446&cm_mmca1=000026UJ&cm_mmca2=10006555&cm_mmca3=M12345678&cvosrc=email.Newsletter.M12345678&cvo_campaign=000026UJ)<br>\n",
        "<a href=\"https://www.tensorflow.org/api_docs/python/?utm_medium=Exinfluencer&utm_source=Exinfluencer&utm_content=000026UJ&utm_term=10006555&utm_id=NA-SkillsNetwork-Channel-SkillsNetworkCoursesIBMDeveloperSkillsNetworkDL0120ENSkillsNetwork954-2022-01-01\">https://www.tensorflow.org/versions/r0.9/resources/dims_types.html</a><br>\n",
        "[https://en.wikipedia.org/wiki/Dimension](https://en.wikipedia.org/wiki/Dimension?utm_medium=Exinfluencer&utm_source=Exinfluencer&utm_content=000026UJ&utm_term=10006555&utm_id=NA-SkillsNetwork-Channel-SkillsNetworkCoursesIBMDeveloperSkillsNetworkDL0120ENSkillsNetwork954-2022-01-01&cm_mmc=Email_Newsletter-_-Developer_Ed%2BTech-_-WW_WW-_-SkillsNetwork-Courses-IBMDeveloperSkillsNetwork-DL0120EN-SkillsNetwork-20629446&cm_mmca1=000026UJ&cm_mmca2=10006555&cm_mmca3=M12345678&cvosrc=email.Newsletter.M12345678&cvo_campaign=000026UJ)<br>\n",
        "[https://book.mql4.com/variables/arrays](https://book.mql4.com/variables/arrays?utm_medium=Exinfluencer&utm_source=Exinfluencer&utm_content=000026UJ&utm_term=10006555&utm_id=NA-SkillsNetwork-Channel-SkillsNetworkCoursesIBMDeveloperSkillsNetworkDL0120ENSkillsNetwork954-2022-01-01&cm_mmc=Email_Newsletter-_-Developer_Ed%2BTech-_-WW_WW-_-SkillsNetwork-Courses-IBMDeveloperSkillsNetwork-DL0120EN-SkillsNetwork-20629446&cm_mmca1=000026UJ&cm_mmca2=10006555&cm_mmca3=M12345678&cvosrc=email.Newsletter.M12345678&cvo_campaign=000026UJ)<br>\n",
        "[https://msdn.microsoft.com/en-us/library/windows/desktop/dn424131(v=vs.85).aspx](https://msdn.microsoft.com/en-us/library/windows/desktop/dn424131\\(v=vs.85\\).aspx?utm_medium=Exinfluencer&utm_source=Exinfluencer&utm_content=000026UJ&utm_term=10006555&utm_id=NA-SkillsNetwork-Channel-SkillsNetworkCoursesIBMDeveloperSkillsNetworkDL0120ENSkillsNetwork954-2022-01-01&cm_mmc=Email_Newsletter-_-Developer_Ed%2BTech-_-WW_WW-_-SkillsNetwork-Courses-IBMDeveloperSkillsNetwork-DL0120EN-SkillsNetwork-20629446&cm_mmca1=000026UJ&cm_mmca2=10006555&cm_mmca3=M12345678&cvosrc=email.Newsletter.M12345678&cvo_campaign=000026UJ)<br>\n"
      ],
      "metadata": {
        "id": "TGujTPmoBLIG"
      }
    },
    {
      "cell_type": "code",
      "source": [],
      "metadata": {
        "id": "pbt20WgEBAkL"
      },
      "execution_count": null,
      "outputs": []
    }
  ]
}